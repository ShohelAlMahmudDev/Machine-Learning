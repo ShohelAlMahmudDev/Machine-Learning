{
 "cells": [
  {
   "cell_type": "markdown",
   "metadata": {},
   "source": [
    "## Intermediate Machine Learning with Scikit-Lear"
   ]
  },
  {
   "cell_type": "markdown",
   "metadata": {},
   "source": [
    "## Multiple linear regression/Multilinear regression"
   ]
  },
  {
   "cell_type": "code",
   "execution_count": 20,
   "metadata": {},
   "outputs": [
    {
     "data": {
      "text/plain": [
       "array([5.68980717])"
      ]
     },
     "execution_count": 20,
     "metadata": {},
     "output_type": "execute_result"
    }
   ],
   "source": [
    "import pandas as pd\n",
    "import seaborn as sns\n",
    "from  sklearn.linear_model import LinearRegression\n",
    "\n",
    "import warnings\n",
    "\n",
    "df = sns.load_dataset('tips')\n",
    "df.head()\n",
    "#double column value because it is depends on another column(y)\n",
    "#select the feature column from dataframe(df)\n",
    "X_bill = df[['total_bill','size']]\n",
    "#select the target(label) column from dataframe(df)\n",
    "y_tip = df['tip']\n",
    "#Initialize the model\n",
    "model=LinearRegression()\n",
    "#trained the model\n",
    "model.fit(X_bill, y_tip)\n",
    "#Predict the tip\n",
    "\n",
    "warnings.filterwarnings(\"ignore\", category=UserWarning)\n",
    "X_test=[[50,2]]\n",
    "model.predict(X_test)"
   ]
  },
  {
   "cell_type": "code",
   "execution_count": 16,
   "metadata": {},
   "outputs": [
    {
     "data": {
      "text/html": [
       "<div>\n",
       "<style scoped>\n",
       "    .dataframe tbody tr th:only-of-type {\n",
       "        vertical-align: middle;\n",
       "    }\n",
       "\n",
       "    .dataframe tbody tr th {\n",
       "        vertical-align: top;\n",
       "    }\n",
       "\n",
       "    .dataframe thead th {\n",
       "        text-align: right;\n",
       "    }\n",
       "</style>\n",
       "<table border=\"1\" class=\"dataframe\">\n",
       "  <thead>\n",
       "    <tr style=\"text-align: right;\">\n",
       "      <th></th>\n",
       "      <th>total_bill</th>\n",
       "      <th>tip</th>\n",
       "      <th>sex</th>\n",
       "      <th>smoker</th>\n",
       "      <th>day</th>\n",
       "      <th>time</th>\n",
       "      <th>size</th>\n",
       "      <th>smoker_number</th>\n",
       "    </tr>\n",
       "  </thead>\n",
       "  <tbody>\n",
       "    <tr>\n",
       "      <th>0</th>\n",
       "      <td>16.99</td>\n",
       "      <td>1.01</td>\n",
       "      <td>Female</td>\n",
       "      <td>No</td>\n",
       "      <td>Sun</td>\n",
       "      <td>Dinner</td>\n",
       "      <td>2</td>\n",
       "      <td>0</td>\n",
       "    </tr>\n",
       "    <tr>\n",
       "      <th>1</th>\n",
       "      <td>10.34</td>\n",
       "      <td>1.66</td>\n",
       "      <td>Male</td>\n",
       "      <td>No</td>\n",
       "      <td>Sun</td>\n",
       "      <td>Dinner</td>\n",
       "      <td>3</td>\n",
       "      <td>0</td>\n",
       "    </tr>\n",
       "    <tr>\n",
       "      <th>2</th>\n",
       "      <td>21.01</td>\n",
       "      <td>3.50</td>\n",
       "      <td>Male</td>\n",
       "      <td>No</td>\n",
       "      <td>Sun</td>\n",
       "      <td>Dinner</td>\n",
       "      <td>3</td>\n",
       "      <td>0</td>\n",
       "    </tr>\n",
       "    <tr>\n",
       "      <th>3</th>\n",
       "      <td>23.68</td>\n",
       "      <td>3.31</td>\n",
       "      <td>Male</td>\n",
       "      <td>No</td>\n",
       "      <td>Sun</td>\n",
       "      <td>Dinner</td>\n",
       "      <td>2</td>\n",
       "      <td>0</td>\n",
       "    </tr>\n",
       "    <tr>\n",
       "      <th>4</th>\n",
       "      <td>24.59</td>\n",
       "      <td>3.61</td>\n",
       "      <td>Female</td>\n",
       "      <td>No</td>\n",
       "      <td>Sun</td>\n",
       "      <td>Dinner</td>\n",
       "      <td>4</td>\n",
       "      <td>0</td>\n",
       "    </tr>\n",
       "  </tbody>\n",
       "</table>\n",
       "</div>"
      ],
      "text/plain": [
       "   total_bill   tip     sex smoker  day    time  size smoker_number\n",
       "0       16.99  1.01  Female     No  Sun  Dinner     2             0\n",
       "1       10.34  1.66    Male     No  Sun  Dinner     3             0\n",
       "2       21.01  3.50    Male     No  Sun  Dinner     3             0\n",
       "3       23.68  3.31    Male     No  Sun  Dinner     2             0\n",
       "4       24.59  3.61  Female     No  Sun  Dinner     4             0"
      ]
     },
     "execution_count": 16,
     "metadata": {},
     "output_type": "execute_result"
    }
   ],
   "source": [
    "#double column value because it is depends on another column(y)\n",
    "#select the feature column from dataframe(df)\n",
    "df['smoker_number'] = df['smoker'].map({'Yes':1,'No':0})\n",
    "df.head()"
   ]
  },
  {
   "cell_type": "code",
   "execution_count": null,
   "metadata": {},
   "outputs": [
    {
     "data": {
      "text/plain": [
       "array([5.68066557])"
      ]
     },
     "execution_count": 18,
     "metadata": {},
     "output_type": "execute_result"
    }
   ],
   "source": [
    "\n",
    "X_bill = df[['total_bill','size','smoker_number']]\n",
    "#select the target(label) column from dataframe(df)\n",
    "y_tip = df['tip']\n",
    "#Initialize the model\n",
    "model=LinearRegression()\n",
    "#trained the model\n",
    "model.fit(X_bill, y_tip)\n",
    "#Predict the tip\n",
    "\n",
    "warnings.filterwarnings(\"ignore\", category=UserWarning)\n"
   ]
  },
  {
   "cell_type": "code",
   "execution_count": 19,
   "metadata": {},
   "outputs": [
    {
     "name": "stdout",
     "output_type": "stream",
     "text": [
      "[5.68066557]\n",
      "[5.76409813]\n"
     ]
    }
   ],
   "source": [
    "X_test=[[50,2,1]]\n",
    "print(model.predict(X_test))\n",
    "X_test=[[50,2,0]]\n",
    "print(model.predict(X_test))"
   ]
  },
  {
   "cell_type": "markdown",
   "metadata": {},
   "source": [
    "## Linear \n",
    "### Classification"
   ]
  },
  {
   "cell_type": "code",
   "execution_count": 21,
   "metadata": {},
   "outputs": [
    {
     "data": {
      "text/plain": [
       "array([5.68980717])"
      ]
     },
     "execution_count": 21,
     "metadata": {},
     "output_type": "execute_result"
    }
   ],
   "source": [
    "import pandas as pd\n",
    "import seaborn as sns\n",
    "from  sklearn.linear_model import LinearRegression\n",
    "\n",
    "import warnings\n",
    "\n",
    "df = sns.load_dataset('tips')\n",
    "df.head()\n",
    "#double column value because it is depends on another column(y)\n",
    "#select the feature column from dataframe(df)\n",
    "X_bill = df[['total_bill','size']]\n",
    "#select the target(label) column from dataframe(df)\n",
    "y_tip = df['tip']\n",
    "#Initialize the model\n",
    "model=LinearRegression()\n",
    "#trained the model\n",
    "model.fit(X_bill, y_tip)\n",
    "#Predict the tip\n",
    "\n",
    "warnings.filterwarnings(\"ignore\", category=UserWarning)\n",
    "X_test=[[50,2]]\n",
    "model.predict(X_test)"
   ]
  },
  {
   "cell_type": "markdown",
   "metadata": {},
   "source": [
    "## Classification\n",
    "## Logistic regression\n",
    "### Binary Classification"
   ]
  },
  {
   "cell_type": "code",
   "execution_count": 24,
   "metadata": {},
   "outputs": [
    {
     "data": {
      "text/plain": [
       "array(['Yes'], dtype=object)"
      ]
     },
     "execution_count": 24,
     "metadata": {},
     "output_type": "execute_result"
    }
   ],
   "source": [
    "import pandas as pd\n",
    "import seaborn as sns\n",
    "from  sklearn.linear_model import LogisticRegression\n",
    "\n",
    "import warnings\n",
    "\n",
    "df = sns.load_dataset('tips')\n",
    "df.head()\n",
    "#double column value because it is depends on another column(y)\n",
    "#select the feature column from dataframe(df)\n",
    "X = df[['total_bill', 'size', 'tip']]\n",
    "#select the target(label) column from dataframe(df)\n",
    "y = df['smoker']\n",
    "#Initialize the model\n",
    "model=LogisticRegression()\n",
    "#trained the model\n",
    "model.fit(X, y)\n",
    "#Predict the tip\n",
    "\n",
    "warnings.filterwarnings(\"ignore\", category=UserWarning)\n",
    "X_test=[[50.527, 2, 5.67]]\n",
    "# predict\n",
    "model.predict(X_test)"
   ]
  },
  {
   "cell_type": "markdown",
   "metadata": {},
   "source": [
    "## GaussianNB Algorithm"
   ]
  },
  {
   "cell_type": "code",
   "execution_count": 25,
   "metadata": {},
   "outputs": [
    {
     "data": {
      "text/plain": [
       "array(['Yes'], dtype='<U3')"
      ]
     },
     "execution_count": 25,
     "metadata": {},
     "output_type": "execute_result"
    }
   ],
   "source": [
    "import pandas as pd\n",
    "import seaborn as sns\n",
    "from  sklearn.naive_bayes import GaussianNB\n",
    "\n",
    "import warnings\n",
    "warnings.filterwarnings(\"ignore\", category=UserWarning)\n",
    "\n",
    "df = sns.load_dataset('tips')\n",
    "df.head()\n",
    "#double column value because it is depends on another column(y)\n",
    "#select the feature column from dataframe(df)\n",
    "X = df[['total_bill', 'size', 'tip']]\n",
    "#select the target(label) column from dataframe(df)\n",
    "y = df['smoker']\n",
    "#Initialize the model\n",
    "model=GaussianNB()\n",
    "#trained the model\n",
    "model.fit(X, y)\n",
    "#Predict the tip\n",
    "\n",
    "\n",
    "X_test=[[50.527, 2, 5.67]]\n",
    "# predict\n",
    "model.predict(X_test)"
   ]
  },
  {
   "cell_type": "markdown",
   "metadata": {},
   "source": [
    "## Decision Trees"
   ]
  },
  {
   "cell_type": "code",
   "execution_count": 26,
   "metadata": {},
   "outputs": [
    {
     "data": {
      "text/plain": [
       "array(['Yes'], dtype=object)"
      ]
     },
     "execution_count": 26,
     "metadata": {},
     "output_type": "execute_result"
    }
   ],
   "source": [
    "import pandas as pd\n",
    "import seaborn as sns\n",
    "from sklearn.tree import DecisionTreeClassifier\n",
    "\n",
    "import warnings\n",
    "warnings.filterwarnings(\"ignore\", category=UserWarning)\n",
    "\n",
    "df = sns.load_dataset('tips')\n",
    "df.head()\n",
    "#double column value because it is depends on another column(y)\n",
    "#select the feature column from dataframe(df)\n",
    "X = df[['total_bill', 'size', 'tip']]\n",
    "#select the target(label) column from dataframe(df)\n",
    "y = df['smoker']\n",
    "#Initialize the model\n",
    "model=DecisionTreeClassifier()\n",
    "#trained the model\n",
    "model.fit(X, y)\n",
    "#Predict the tip \n",
    "X_test=[[50.527, 2, 5.67]]\n",
    "# predict\n",
    "model.predict(X_test)"
   ]
  },
  {
   "cell_type": "markdown",
   "metadata": {},
   "source": [
    "## Regression Metrics"
   ]
  },
  {
   "cell_type": "code",
   "execution_count": 27,
   "metadata": {},
   "outputs": [
    {
     "name": "stdout",
     "output_type": "stream",
     "text": [
      "Mean Squared Error: 0.6485996190543517\n",
      "R2 Score: 0.4811084097989491\n",
      "Mean Absolute Error: 0.6639235737596481\n",
      "Mean Absolute Percentage Error: 0.27978917485910254\n",
      "Root Mean Squared Error: 0.8053568271607013\n"
     ]
    }
   ],
   "source": [
    "import pandas as pd\n",
    "import numpy as np\n",
    "import seaborn as sns\n",
    "from sklearn.linear_model import LinearRegression\n",
    "# load the data\n",
    "df = sns.load_dataset('tips')\n",
    "df.head()\n",
    "\n",
    "X = df[['total_bill', 'size']]\n",
    "y = df['tip']\n",
    "\n",
    "# train test split\n",
    "from sklearn.model_selection import train_test_split\n",
    "X_train, X_test, y_train, y_test = train_test_split(X, y, train_size=0.8, random_state=42)\n",
    "\n",
    "# call the model\n",
    "model = LinearRegression()\n",
    "\n",
    "# fit the model\n",
    "model.fit(X_train, y_train)\n",
    "\n",
    "# metric to evaluate the model\n",
    "from sklearn.metrics import mean_squared_error, r2_score, mean_absolute_error, mean_absolute_percentage_error\n",
    "y_pred = model.predict(X_test)\n",
    "\n",
    "print(f\"Mean Squared Error: {mean_squared_error(y_test, y_pred)}\")\n",
    "print(f\"R2 Score: {r2_score(y_test, y_pred)}\")\n",
    "print(f\"Mean Absolute Error: {mean_absolute_error(y_test, y_pred)}\")\n",
    "print(f\"Mean Absolute Percentage Error: {mean_absolute_percentage_error(y_test, y_pred)}\")\n",
    "# root mean squared error\n",
    "print(f\"Root Mean Squared Error: {np.sqrt(mean_squared_error(y_test, y_pred))}\")"
   ]
  }
 ],
 "metadata": {
  "kernelspec": {
   "display_name": "venv_ml",
   "language": "python",
   "name": "python3"
  },
  "language_info": {
   "codemirror_mode": {
    "name": "ipython",
    "version": 3
   },
   "file_extension": ".py",
   "mimetype": "text/x-python",
   "name": "python",
   "nbconvert_exporter": "python",
   "pygments_lexer": "ipython3",
   "version": "3.10.0"
  }
 },
 "nbformat": 4,
 "nbformat_minor": 2
}
